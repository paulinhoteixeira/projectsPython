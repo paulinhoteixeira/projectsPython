{
 "cells": [
  {
   "cell_type": "markdown",
   "metadata": {},
   "source": [
    "# RELATÓRIO"
   ]
  },
  {
   "cell_type": "markdown",
   "metadata": {},
   "source": [
    "# Instalar biblioteca"
   ]
  },
  {
   "cell_type": "code",
   "execution_count": null,
   "metadata": {},
   "outputs": [],
   "source": [
    "#pip install anvil-uplink #instalação do anvil gerador de pdf"
   ]
  },
  {
   "cell_type": "markdown",
   "metadata": {},
   "source": [
    "# Importar bibliotecas"
   ]
  },
  {
   "cell_type": "code",
   "execution_count": 65,
   "metadata": {},
   "outputs": [],
   "source": [
    "#importar a biblioteca pandas e datetime\n",
    "import pandas as pd\n",
    "from datetime import datetime\n",
    "from calendar import monthrange\n",
    "#importar a biblioteca anvil\n",
    "import anvil.server\n",
    "#importar outras bibliotecas da anvil\n",
    "import anvil.pdf\n",
    "import anvil.media"
   ]
  },
  {
   "cell_type": "markdown",
   "metadata": {},
   "source": [
    "# Ler e ajustar a planilha de dados com Pandas"
   ]
  },
  {
   "cell_type": "code",
   "execution_count": 66,
   "metadata": {},
   "outputs": [],
   "source": [
    "#ler a planilha de projetos\n",
    "planProjetos = pd.read_excel('projetos.xlsx', decimal=',')\n",
    "\n",
    "#adicionar e preencher a coluna com o numero 1\n",
    "for index, row in planProjetos.iterrows():\n",
    "    planProjetos.loc[index,'contador'] =  1\n",
    "    \n",
    "#adcionar uma coluna com o mês\n",
    "planProjetos['mes'] = pd.to_datetime(planProjetos['datarecebimento']).dt.strftime('%b')\n",
    "\n",
    "#converte a coluna hora implanta em float\n",
    "planProjetos['horaimplanta'] = planProjetos['horaimplanta'].astype(float)\n",
    "\n",
    "#transformar a planilha total em dicionario\n",
    "planTotal = planProjetos.to_dict('records')"
   ]
  },
  {
   "cell_type": "markdown",
   "metadata": {},
   "source": [
    "# Realizar filtros e armazenar numa nova tabela"
   ]
  },
  {
   "cell_type": "code",
   "execution_count": 67,
   "metadata": {},
   "outputs": [],
   "source": [
    "#filtrar mês anterior\n",
    "mesAnterior = datetime.now().month - 1\n",
    "mesString = str(mesAnterior)\n",
    "ultimoDia = monthrange(2020, mesAnterior)\n",
    "diaString = str(ultimoDia[1])\n",
    "dataInicio = '0' + mesString + '-01-2020'\n",
    "dataFim = '0' + mesString + '-' + diaString + '-2020'\n",
    "filtroMes = (planProjetos['datarecebimento'] >= dataInicio) & (planProjetos['datarecebimento'] <= dataFim)\n",
    "\n",
    "#aplicar o filtro de mês\n",
    "planProjetos = planProjetos.loc[filtroMes]\n",
    "\n",
    "#transformar as tabelas em dicionario\n",
    "planTratada = planProjetos.to_dict('records')\n",
    "\n",
    "#melhorar a aparencia da data\n",
    "for i in range(len(planTratada)):\n",
    "    planTratada[i]['datarecebimento'] = planTratada[i]['datarecebimento'].strftime('%d/%m/%Y')"
   ]
  },
  {
   "cell_type": "markdown",
   "metadata": {},
   "source": [
    "# Conectar com o server Anvil e salvar o PDF"
   ]
  },
  {
   "cell_type": "code",
   "execution_count": 72,
   "metadata": {},
   "outputs": [],
   "source": [
    "#conectar com o server da anvil com o endereço criado na pagina da anvil\n",
    "anvil.server.connect(\"DHR4YUYHO6PHKPQZNU64LHRK-6SQHWKZWIU4OK4TL\")\n",
    "\n",
    "#adicionar o conteudo da tabela para o design criado no site da anvil\n",
    "pdf = anvil.pdf.form_to_pdf(\"ReportForm\", planTratada, planTotal)\n",
    "\n",
    "#criar o pdf no diretorio\n",
    "anvil.media.write_to_file(pdf, \"report.pdf\")"
   ]
  },
  {
   "cell_type": "code",
   "execution_count": null,
   "metadata": {},
   "outputs": [],
   "source": []
  }
 ],
 "metadata": {
  "kernelspec": {
   "display_name": "Python 3",
   "language": "python",
   "name": "python3"
  },
  "language_info": {
   "codemirror_mode": {
    "name": "ipython",
    "version": 3
   },
   "file_extension": ".py",
   "mimetype": "text/x-python",
   "name": "python",
   "nbconvert_exporter": "python",
   "pygments_lexer": "ipython3",
   "version": "3.7.3"
  }
 },
 "nbformat": 4,
 "nbformat_minor": 2
}
